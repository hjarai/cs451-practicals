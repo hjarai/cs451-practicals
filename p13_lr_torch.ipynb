{
  "nbformat": 4,
  "nbformat_minor": 0,
  "metadata": {
    "colab": {
      "name": "p13-lr-torch.ipynb",
      "provenance": [],
      "collapsed_sections": [],
      "include_colab_link": true
    },
    "kernelspec": {
      "name": "python3",
      "display_name": "Python 3"
    },
    "language_info": {
      "name": "python"
    }
  },
  "cells": [
    {
      "cell_type": "markdown",
      "metadata": {
        "id": "view-in-github",
        "colab_type": "text"
      },
      "source": [
        "<a href=\"https://colab.research.google.com/github/hjarai/cs451-practicals/blob/main/p13_lr_torch.ipynb\" target=\"_parent\"><img src=\"https://colab.research.google.com/assets/colab-badge.svg\" alt=\"Open In Colab\"/></a>"
      ]
    },
    {
      "cell_type": "code",
      "metadata": {
        "colab": {
          "base_uri": "https://localhost:8080/"
        },
        "id": "gAIfcZRphREc",
        "outputId": "0dd60c66-0c5c-4790-8073-ea1337aa6ae0"
      },
      "source": [
        "# Import many things!\n",
        "import numpy as np\n",
        "from sklearn import metrics\n",
        "import numpy as np\n",
        "from tqdm import tqdm\n",
        "from typing import List, Tuple, Dict\n",
        "import random\n",
        "import matplotlib.pyplot as plt\n",
        "import pandas as pd\n",
        "from sklearn.preprocessing import StandardScaler\n",
        "from sklearn.model_selection import train_test_split\n",
        "from sklearn.feature_extraction.text import TfidfVectorizer\n",
        "from sklearn.feature_extraction import DictVectorizer\n",
        "from sklearn.preprocessing import StandardScaler\n",
        "from sklearn.pipeline import make_pipeline\n",
        "\n",
        "import torch\n",
        "from torch import nn, optim\n",
        "\n",
        "# start off by seeding random number generators:\n",
        "RANDOM_SEED = 12345\n",
        "random.seed(RANDOM_SEED)\n",
        "np.random.seed(RANDOM_SEED)\n",
        "torch.manual_seed(RANDOM_SEED)"
      ],
      "execution_count": null,
      "outputs": [
        {
          "output_type": "execute_result",
          "data": {
            "text/plain": [
              "<torch._C.Generator at 0x7feaed63f8d0>"
            ]
          },
          "metadata": {
            "tags": []
          },
          "execution_count": 30
        }
      ]
    },
    {
      "cell_type": "code",
      "metadata": {
        "id": "mRZCCwcPMrgM"
      },
      "source": [
        "# download our dataset ('shared.py')\n",
        "import urllib\n",
        "\n",
        "url = 'http://ciir.cs.umass.edu/downloads/poetry/id_datasets.jsonl'\n",
        "path = 'poetry_id.jsonl'\n",
        "# try connecting before creating output file...\n",
        "with urllib.request.urlopen(url) as f:\n",
        "    # create output file and download the rest.\n",
        "    with open(path, \"wb\") as out:\n",
        "        out.write(f.read())"
      ],
      "execution_count": null,
      "outputs": []
    },
    {
      "cell_type": "code",
      "metadata": {
        "id": "CVNvSYZ8PZOp"
      },
      "source": [
        "# load in the dataset, split it 'dataset_poetry.py'\n",
        "df: pd.DataFrame = pd.read_json(path, lines=True)\n",
        "\n",
        "features = pd.json_normalize(df.features)\n",
        "features = features.join([df.poetry, df.words])\n",
        "\n",
        "tv_f, test_f = train_test_split(features, test_size=0.25, random_state=RANDOM_SEED)\n",
        "train_f, vali_f = train_test_split(tv_f, test_size=0.25, random_state=RANDOM_SEED)\n",
        "\n",
        "textual = TfidfVectorizer(max_df=0.75, min_df=2, dtype=np.float32)\n",
        "numeric = make_pipeline(DictVectorizer(sparse=False), StandardScaler())\n",
        "\n",
        "def split(\n",
        "    df: pd.DataFrame, fit: bool = False\n",
        ") -> Tuple[np.ndarray, Dict[str, np.ndarray]]:\n",
        "    global numeric, textual\n",
        "    y = np.array(df.pop(\"poetry\").values)\n",
        "    text = df.pop(\"words\")\n",
        "    if fit:\n",
        "        textual.fit(text)\n",
        "        numeric.fit(df.to_dict(\"records\"))\n",
        "    x_text = textual.transform(text)\n",
        "    x_num = numeric.transform(df.to_dict(\"records\"))\n",
        "    x_merged = np.asarray(np.hstack([x_num, x_text.todense()]))\n",
        "    return (y, {\"textual\": x_text, \"numeric\": x_num, \"merged\": x_merged})\n",
        "\n",
        "\n",
        "y_train, Xd_train = split(train_f, fit=True)\n",
        "y_vali, Xd_vali = split(vali_f)\n",
        "y_test, Xd_test = split(test_f)"
      ],
      "execution_count": null,
      "outputs": []
    },
    {
      "cell_type": "code",
      "metadata": {
        "colab": {
          "base_uri": "https://localhost:8080/"
        },
        "id": "18HngQjxhMeQ",
        "outputId": "06c8ff35-4654-4daf-832d-ff3c6354a439"
      },
      "source": [
        "# choose feature space; 'textual', 'merged' will be slower but better.\n",
        "X_train = Xd_train[\"numeric\"]\n",
        "X_vali = Xd_vali[\"numeric\"]\n",
        "\n",
        "from sklearn.linear_model import LogisticRegression\n",
        "from sklearn.metrics import roc_auc_score\n",
        "\n",
        "# Once again, LibLinear's LBFGS is a bit faster.\n",
        "m = LogisticRegression(random_state=RANDOM_SEED, penalty=\"none\", max_iter=2000)\n",
        "m.fit(X_train, y_train)\n",
        "\n",
        "y_scores = m.predict_proba(X_vali)[:,1]\n",
        "print(\"skLearn-LR AUC: {:.3}\".format(roc_auc_score(y_score=y_scores, y_true=y_vali)))\n",
        "print(\"skLearn-LR Acc: {:.3}\".format(m.score(X_vali, y_vali)))\n"
      ],
      "execution_count": null,
      "outputs": [
        {
          "output_type": "stream",
          "text": [
            "skLearn-LR AUC: 0.974\n",
            "skLearn-LR Acc: 0.929\n"
          ],
          "name": "stdout"
        }
      ]
    },
    {
      "cell_type": "code",
      "metadata": {
        "id": "T2gVyQCYNuXc"
      },
      "source": [
        "(N, D) = X_train.shape\n",
        "\n",
        "# torch has its own matrix/vector types\n",
        "X = torch.from_numpy(X_train).float()\n",
        "y = torch.from_numpy(y_train).long()\n",
        "Xv = torch.from_numpy(X_vali).float()\n",
        "yv = torch.from_numpy(y_vali).long()\n",
        "\n",
        "\n",
        "def train(name: str, model, optimizer, objective, max_iter=2000):\n",
        "    train_losses = []\n",
        "    vali_losses = []\n",
        "    samples = []\n",
        "    for it in tqdm(range(max_iter)):\n",
        "        model.train()\n",
        "\n",
        "        # Perform one step of training:\n",
        "        optimizer.zero_grad() # gradient = 0\n",
        "        loss = objective(model(X), y)\n",
        "        loss.backward()\n",
        "        optimizer.step()\n",
        "\n",
        "        # every 25 steps, sample validation performance. \n",
        "        if it % 25 == 0:\n",
        "            model.eval()\n",
        "            y_probs = model(X).detach().numpy()\n",
        "            vali_loss = objective(model(Xv), yv)\n",
        "            train_losses.append(loss.item())\n",
        "            vali_losses.append(vali_loss.item())\n",
        "            samples.append(it)\n",
        "    model.eval()\n",
        "\n",
        "    # Predict on the Validation Set\n",
        "    y_probs = model(Xv).detach().numpy()\n",
        "    y_pred = (y_probs[:, 1] > 0.5).ravel()\n",
        "    print(\n",
        "        \"Validation. Acc: {:.3} Auc: {:.3}\".format(\n",
        "            metrics.accuracy_score(yv, y_pred),\n",
        "            metrics.roc_auc_score(yv, y_probs[:, 1].ravel()),\n",
        "        )\n",
        "    )\n",
        "\n",
        "    plt.plot(samples, train_losses, label=\"Training Loss\", alpha=0.7)\n",
        "    plt.plot(samples, vali_losses, label=\"Validation Loss\", alpha=0.7)\n",
        "    plt.title(\"{} Training Loss\".format(name))\n",
        "    plt.xlabel(\"Iteration\")\n",
        "    plt.ylabel(\"Loss\")\n",
        "    plt.legend()\n",
        "    plt.tight_layout()\n",
        "    plt.show()\n",
        "\n",
        "    return model"
      ],
      "execution_count": null,
      "outputs": []
    },
    {
      "cell_type": "code",
      "metadata": {
        "colab": {
          "base_uri": "https://localhost:8080/",
          "height": 349
        },
        "id": "FtFw9nKPOVs_",
        "outputId": "68671dfe-e5d0-4f02-e9b6-f7b6c880158f"
      },
      "source": [
        "%matplotlib inline\n",
        "\n",
        "# Actually train a LogisticRegression; just one 'Linear' layer.\n",
        "n_classes = len([0, 1])\n",
        "model = nn.Linear(D, n_classes, bias=True)\n",
        "objective = nn.CrossEntropyLoss()\n",
        "optimizer = optim.SGD(model.parameters(), lr=1.0, momentum=0.9)\n",
        "\n",
        "train(\"logistic-regression\", model, optimizer, objective)"
      ],
      "execution_count": null,
      "outputs": [
        {
          "output_type": "stream",
          "text": [
            "100%|██████████| 2000/2000 [00:01<00:00, 1464.87it/s]\n"
          ],
          "name": "stderr"
        },
        {
          "output_type": "stream",
          "text": [
            "Validation. Acc: 0.919 Auc: 0.973\n"
          ],
          "name": "stdout"
        },
        {
          "output_type": "display_data",
          "data": {
            "image/png": "[encoded data removed]",
            "text/plain": [
              "<Figure size 432x288 with 1 Axes>"
            ]
          },
          "metadata": {
            "tags": [],
            "needs_background": "light"
          }
        },
        {
          "output_type": "execute_result",
          "data": {
            "text/plain": [
              "Linear(in_features=38, out_features=2, bias=True)"
            ]
          },
          "metadata": {
            "tags": []
          },
          "execution_count": 27
        }
      ]
    },
    {
      "cell_type": "code",
      "metadata": {
        "colab": {
          "base_uri": "https://localhost:8080/",
          "height": 488
        },
        "id": "BTAv1rsIOcPQ",
        "outputId": "57faa8f9-3dda-4656-a072-f309e5ce7799"
      },
      "source": [
        "def make_neural_net(D: int, hidden: List[int], num_classes: int = 2, dropout=0.2):\n",
        "    \"\"\" Using nn.Sequential; construct a list of layers that make this a neural-network. \"\"\"\n",
        "    layers = []\n",
        "    for i, dim in enumerate(hidden):\n",
        "        if i == 0:\n",
        "            layers.append(nn.Linear(D, dim))\n",
        "            layers.append(nn.Dropout(p=DROPOUT))\n",
        "            layers.append(nn.ReLU())\n",
        "        else:\n",
        "            layers.append(nn.Linear(hidden[i - 1], dim))\n",
        "            layers.append(nn.Dropout(p=DROPOUT))\n",
        "            layers.append(nn.ReLU())\n",
        "    layers.append(nn.Linear(hidden[-1], num_classes))\n",
        "    return nn.Sequential(*layers)\n",
        "\n",
        "LEARNING_RATE = 1.0\n",
        "DROPOUT = 0.2  # randomly turn off this fraction of the neural-net while training.\n",
        "MOMENTUM = 0.9\n",
        "REGULARIZATION = 0.   # try 0.1, 0.01, etc.\n",
        "\n",
        "# two hidden layers, 16 nodes, each.\n",
        "model = make_neural_net(D, [16, 16], dropout=DROPOUT)\n",
        "objective = nn.CrossEntropyLoss()\n",
        "optimizer = optim.SGD(\n",
        "    model.parameters(), lr=LEARNING_RATE, momentum=MOMENTUM, weight_decay=REGULARIZATION\n",
        ")\n",
        "\n",
        "train(\"neural_net\", model, optimizer, objective, max_iter=1000)"
      ],
      "execution_count": null,
      "outputs": [
        {
          "output_type": "stream",
          "text": [
            "100%|██████████| 1000/1000 [00:01<00:00, 619.50it/s]\n"
          ],
          "name": "stderr"
        },
        {
          "output_type": "stream",
          "text": [
            "Validation. Acc: 0.935 Auc: 0.966\n"
          ],
          "name": "stdout"
        },
        {
          "output_type": "display_data",
          "data": {
            "image/png": "[encoded data removed]",
            "text/plain": [
              "<Figure size 432x288 with 1 Axes>"
            ]
          },
          "metadata": {
            "tags": [],
            "needs_background": "light"
          }
        },
        {
          "output_type": "execute_result",
          "data": {
            "text/plain": [
              "Sequential(\n",
              "  (0): Linear(in_features=38, out_features=16, bias=True)\n",
              "  (1): Dropout(p=0.2, inplace=False)\n",
              "  (2): ReLU()\n",
              "  (3): Linear(in_features=16, out_features=16, bias=True)\n",
              "  (4): Dropout(p=0.2, inplace=False)\n",
              "  (5): ReLU()\n",
              "  (6): Linear(in_features=16, out_features=2, bias=True)\n",
              ")"
            ]
          },
          "metadata": {
            "tags": []
          },
          "execution_count": 29
        }
      ]
    },
    {
      "cell_type": "markdown",
      "metadata": {
        "id": "gmJ3dxwqRk03"
      },
      "source": [
        "## Lab TODO:\n",
        " 1. Investigate LEARNING_RATE, DROPOUT, MOMENTUM, REGULARIZATION.\n",
        " 2. What do you think these variables change?\n",
        " 3. Consider a shallower, wider network. \n",
        "    - Changing [16,16] to something else... might require revisiting step 1.\n"
      ]
    }
  ]
}